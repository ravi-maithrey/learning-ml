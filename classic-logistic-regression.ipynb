{
 "cells": [
  {
   "cell_type": "code",
   "execution_count": null,
   "id": "7efd986a",
   "metadata": {
    "papermill": {
     "duration": 0.024972,
     "end_time": "2022-08-21T00:14:04.957170",
     "exception": false,
     "start_time": "2022-08-21T00:14:04.932198",
     "status": "completed"
    },
    "tags": []
   },
   "outputs": [],
   "source": []
  },
  {
   "cell_type": "code",
   "execution_count": 1,
   "id": "f09720eb",
   "metadata": {
    "_cell_guid": "b1076dfc-b9ad-4769-8c92-a6c4dae69d19",
    "_uuid": "8f2839f25d086af736a60e9eeb907d3b93b6e0e5",
    "execution": {
     "iopub.execute_input": "2022-08-21T00:14:05.004523Z",
     "iopub.status.busy": "2022-08-21T00:14:05.003739Z",
     "iopub.status.idle": "2022-08-21T00:14:06.013154Z",
     "shell.execute_reply": "2022-08-21T00:14:06.012212Z"
    },
    "papermill": {
     "duration": 1.036015,
     "end_time": "2022-08-21T00:14:06.015776",
     "exception": false,
     "start_time": "2022-08-21T00:14:04.979761",
     "status": "completed"
    },
    "tags": []
   },
   "outputs": [
    {
     "name": "stdout",
     "output_type": "stream",
     "text": [
      "/kaggle/input/spaceship-titanic/sample_submission.csv\n",
      "/kaggle/input/spaceship-titanic/train.csv\n",
      "/kaggle/input/spaceship-titanic/test.csv\n"
     ]
    }
   ],
   "source": [
    "# This Python 3 environment comes with many helpful analytics libraries installed\n",
    "# It is defined by the kaggle/python Docker image: https://github.com/kaggle/docker-python\n",
    "# For example, here's several helpful packages to load\n",
    "\n",
    "import numpy as np # linear algebra\n",
    "import pandas as pd # data processing, CSV file I/O (e.g. pd.read_csv)\n",
    "import sklearn\n",
    "#import sklearn.preprocessing.OneHotEncoder #to encode categorical variables\n",
    "#import sklearn.linear_model.LogisticRegression #to perform logistic regression\n",
    "#import sklearn.model_selection.train_test_split #to split our data to perform training and testing\n",
    "\n",
    "# Input data files are available in the read-only \"../input/\" directory\n",
    "# For example, running this (by clicking run or pressing Shift+Enter) will list all files under the input directory\n",
    "\n",
    "import os\n",
    "for dirname, _, filenames in os.walk('/kaggle/input'):\n",
    "    for filename in filenames:\n",
    "        print(os.path.join(dirname, filename))\n",
    "\n",
    "# You can write up to 20GB to the current directory (/kaggle/working/) that gets preserved as output when you create a version using \"Save & Run All\" \n",
    "# You can also write temporary files to /kaggle/temp/, but they won't be saved outside of the current session"
   ]
  },
  {
   "cell_type": "code",
   "execution_count": 2,
   "id": "0bd3f301",
   "metadata": {
    "execution": {
     "iopub.execute_input": "2022-08-21T00:14:06.063693Z",
     "iopub.status.busy": "2022-08-21T00:14:06.063138Z",
     "iopub.status.idle": "2022-08-21T00:14:06.230197Z",
     "shell.execute_reply": "2022-08-21T00:14:06.229314Z"
    },
    "papermill": {
     "duration": 0.193285,
     "end_time": "2022-08-21T00:14:06.232670",
     "exception": false,
     "start_time": "2022-08-21T00:14:06.039385",
     "status": "completed"
    },
    "tags": []
   },
   "outputs": [],
   "source": [
    "from sklearn.linear_model import LogisticRegression #to perform logistic regression\n",
    "from sklearn.model_selection import train_test_split #to split our data to perform training and testing"
   ]
  },
  {
   "cell_type": "code",
   "execution_count": 3,
   "id": "d577fce5",
   "metadata": {
    "execution": {
     "iopub.execute_input": "2022-08-21T00:14:06.280124Z",
     "iopub.status.busy": "2022-08-21T00:14:06.279556Z",
     "iopub.status.idle": "2022-08-21T00:14:06.374578Z",
     "shell.execute_reply": "2022-08-21T00:14:06.373603Z"
    },
    "papermill": {
     "duration": 0.122172,
     "end_time": "2022-08-21T00:14:06.377429",
     "exception": false,
     "start_time": "2022-08-21T00:14:06.255257",
     "status": "completed"
    },
    "tags": []
   },
   "outputs": [
    {
     "data": {
      "text/html": [
       "<div>\n",
       "<style scoped>\n",
       "    .dataframe tbody tr th:only-of-type {\n",
       "        vertical-align: middle;\n",
       "    }\n",
       "\n",
       "    .dataframe tbody tr th {\n",
       "        vertical-align: top;\n",
       "    }\n",
       "\n",
       "    .dataframe thead th {\n",
       "        text-align: right;\n",
       "    }\n",
       "</style>\n",
       "<table border=\"1\" class=\"dataframe\">\n",
       "  <thead>\n",
       "    <tr style=\"text-align: right;\">\n",
       "      <th></th>\n",
       "      <th>PassengerId</th>\n",
       "      <th>HomePlanet</th>\n",
       "      <th>CryoSleep</th>\n",
       "      <th>Cabin</th>\n",
       "      <th>Destination</th>\n",
       "      <th>Age</th>\n",
       "      <th>VIP</th>\n",
       "      <th>RoomService</th>\n",
       "      <th>FoodCourt</th>\n",
       "      <th>ShoppingMall</th>\n",
       "      <th>Spa</th>\n",
       "      <th>VRDeck</th>\n",
       "      <th>Transported</th>\n",
       "    </tr>\n",
       "  </thead>\n",
       "  <tbody>\n",
       "    <tr>\n",
       "      <th>0</th>\n",
       "      <td>0001_01</td>\n",
       "      <td>Europa</td>\n",
       "      <td>False</td>\n",
       "      <td>B/0/P</td>\n",
       "      <td>TRAPPIST-1e</td>\n",
       "      <td>39.0</td>\n",
       "      <td>False</td>\n",
       "      <td>0.0</td>\n",
       "      <td>0.0</td>\n",
       "      <td>0.0</td>\n",
       "      <td>0.0</td>\n",
       "      <td>0.0</td>\n",
       "      <td>False</td>\n",
       "    </tr>\n",
       "    <tr>\n",
       "      <th>1</th>\n",
       "      <td>0002_01</td>\n",
       "      <td>Earth</td>\n",
       "      <td>False</td>\n",
       "      <td>F/0/S</td>\n",
       "      <td>TRAPPIST-1e</td>\n",
       "      <td>24.0</td>\n",
       "      <td>False</td>\n",
       "      <td>109.0</td>\n",
       "      <td>9.0</td>\n",
       "      <td>25.0</td>\n",
       "      <td>549.0</td>\n",
       "      <td>44.0</td>\n",
       "      <td>True</td>\n",
       "    </tr>\n",
       "    <tr>\n",
       "      <th>2</th>\n",
       "      <td>0003_01</td>\n",
       "      <td>Europa</td>\n",
       "      <td>False</td>\n",
       "      <td>A/0/S</td>\n",
       "      <td>TRAPPIST-1e</td>\n",
       "      <td>58.0</td>\n",
       "      <td>True</td>\n",
       "      <td>43.0</td>\n",
       "      <td>3576.0</td>\n",
       "      <td>0.0</td>\n",
       "      <td>6715.0</td>\n",
       "      <td>49.0</td>\n",
       "      <td>False</td>\n",
       "    </tr>\n",
       "    <tr>\n",
       "      <th>3</th>\n",
       "      <td>0003_02</td>\n",
       "      <td>Europa</td>\n",
       "      <td>False</td>\n",
       "      <td>A/0/S</td>\n",
       "      <td>TRAPPIST-1e</td>\n",
       "      <td>33.0</td>\n",
       "      <td>False</td>\n",
       "      <td>0.0</td>\n",
       "      <td>1283.0</td>\n",
       "      <td>371.0</td>\n",
       "      <td>3329.0</td>\n",
       "      <td>193.0</td>\n",
       "      <td>False</td>\n",
       "    </tr>\n",
       "    <tr>\n",
       "      <th>4</th>\n",
       "      <td>0004_01</td>\n",
       "      <td>Earth</td>\n",
       "      <td>False</td>\n",
       "      <td>F/1/S</td>\n",
       "      <td>TRAPPIST-1e</td>\n",
       "      <td>16.0</td>\n",
       "      <td>False</td>\n",
       "      <td>303.0</td>\n",
       "      <td>70.0</td>\n",
       "      <td>151.0</td>\n",
       "      <td>565.0</td>\n",
       "      <td>2.0</td>\n",
       "      <td>True</td>\n",
       "    </tr>\n",
       "    <tr>\n",
       "      <th>...</th>\n",
       "      <td>...</td>\n",
       "      <td>...</td>\n",
       "      <td>...</td>\n",
       "      <td>...</td>\n",
       "      <td>...</td>\n",
       "      <td>...</td>\n",
       "      <td>...</td>\n",
       "      <td>...</td>\n",
       "      <td>...</td>\n",
       "      <td>...</td>\n",
       "      <td>...</td>\n",
       "      <td>...</td>\n",
       "      <td>...</td>\n",
       "    </tr>\n",
       "    <tr>\n",
       "      <th>8688</th>\n",
       "      <td>9276_01</td>\n",
       "      <td>Europa</td>\n",
       "      <td>False</td>\n",
       "      <td>A/98/P</td>\n",
       "      <td>55 Cancri e</td>\n",
       "      <td>41.0</td>\n",
       "      <td>True</td>\n",
       "      <td>0.0</td>\n",
       "      <td>6819.0</td>\n",
       "      <td>0.0</td>\n",
       "      <td>1643.0</td>\n",
       "      <td>74.0</td>\n",
       "      <td>False</td>\n",
       "    </tr>\n",
       "    <tr>\n",
       "      <th>8689</th>\n",
       "      <td>9278_01</td>\n",
       "      <td>Earth</td>\n",
       "      <td>True</td>\n",
       "      <td>G/1499/S</td>\n",
       "      <td>PSO J318.5-22</td>\n",
       "      <td>18.0</td>\n",
       "      <td>False</td>\n",
       "      <td>0.0</td>\n",
       "      <td>0.0</td>\n",
       "      <td>0.0</td>\n",
       "      <td>0.0</td>\n",
       "      <td>0.0</td>\n",
       "      <td>False</td>\n",
       "    </tr>\n",
       "    <tr>\n",
       "      <th>8690</th>\n",
       "      <td>9279_01</td>\n",
       "      <td>Earth</td>\n",
       "      <td>False</td>\n",
       "      <td>G/1500/S</td>\n",
       "      <td>TRAPPIST-1e</td>\n",
       "      <td>26.0</td>\n",
       "      <td>False</td>\n",
       "      <td>0.0</td>\n",
       "      <td>0.0</td>\n",
       "      <td>1872.0</td>\n",
       "      <td>1.0</td>\n",
       "      <td>0.0</td>\n",
       "      <td>True</td>\n",
       "    </tr>\n",
       "    <tr>\n",
       "      <th>8691</th>\n",
       "      <td>9280_01</td>\n",
       "      <td>Europa</td>\n",
       "      <td>False</td>\n",
       "      <td>E/608/S</td>\n",
       "      <td>55 Cancri e</td>\n",
       "      <td>32.0</td>\n",
       "      <td>False</td>\n",
       "      <td>0.0</td>\n",
       "      <td>1049.0</td>\n",
       "      <td>0.0</td>\n",
       "      <td>353.0</td>\n",
       "      <td>3235.0</td>\n",
       "      <td>False</td>\n",
       "    </tr>\n",
       "    <tr>\n",
       "      <th>8692</th>\n",
       "      <td>9280_02</td>\n",
       "      <td>Europa</td>\n",
       "      <td>False</td>\n",
       "      <td>E/608/S</td>\n",
       "      <td>TRAPPIST-1e</td>\n",
       "      <td>44.0</td>\n",
       "      <td>False</td>\n",
       "      <td>126.0</td>\n",
       "      <td>4688.0</td>\n",
       "      <td>0.0</td>\n",
       "      <td>0.0</td>\n",
       "      <td>12.0</td>\n",
       "      <td>True</td>\n",
       "    </tr>\n",
       "  </tbody>\n",
       "</table>\n",
       "<p>8693 rows × 13 columns</p>\n",
       "</div>"
      ],
      "text/plain": [
       "     PassengerId HomePlanet CryoSleep     Cabin    Destination   Age    VIP  \\\n",
       "0        0001_01     Europa     False     B/0/P    TRAPPIST-1e  39.0  False   \n",
       "1        0002_01      Earth     False     F/0/S    TRAPPIST-1e  24.0  False   \n",
       "2        0003_01     Europa     False     A/0/S    TRAPPIST-1e  58.0   True   \n",
       "3        0003_02     Europa     False     A/0/S    TRAPPIST-1e  33.0  False   \n",
       "4        0004_01      Earth     False     F/1/S    TRAPPIST-1e  16.0  False   \n",
       "...          ...        ...       ...       ...            ...   ...    ...   \n",
       "8688     9276_01     Europa     False    A/98/P    55 Cancri e  41.0   True   \n",
       "8689     9278_01      Earth      True  G/1499/S  PSO J318.5-22  18.0  False   \n",
       "8690     9279_01      Earth     False  G/1500/S    TRAPPIST-1e  26.0  False   \n",
       "8691     9280_01     Europa     False   E/608/S    55 Cancri e  32.0  False   \n",
       "8692     9280_02     Europa     False   E/608/S    TRAPPIST-1e  44.0  False   \n",
       "\n",
       "      RoomService  FoodCourt  ShoppingMall     Spa  VRDeck  Transported  \n",
       "0             0.0        0.0           0.0     0.0     0.0        False  \n",
       "1           109.0        9.0          25.0   549.0    44.0         True  \n",
       "2            43.0     3576.0           0.0  6715.0    49.0        False  \n",
       "3             0.0     1283.0         371.0  3329.0   193.0        False  \n",
       "4           303.0       70.0         151.0   565.0     2.0         True  \n",
       "...           ...        ...           ...     ...     ...          ...  \n",
       "8688          0.0     6819.0           0.0  1643.0    74.0        False  \n",
       "8689          0.0        0.0           0.0     0.0     0.0        False  \n",
       "8690          0.0        0.0        1872.0     1.0     0.0         True  \n",
       "8691          0.0     1049.0           0.0   353.0  3235.0        False  \n",
       "8692        126.0     4688.0           0.0     0.0    12.0         True  \n",
       "\n",
       "[8693 rows x 13 columns]"
      ]
     },
     "execution_count": 3,
     "metadata": {},
     "output_type": "execute_result"
    }
   ],
   "source": [
    "X = pd.read_csv(\"/kaggle/input/spaceship-titanic/train.csv\")\n",
    "X = X.drop(columns=[\"Name\"]) #as name should have no bearing on a person's survival. If it does, something is wrong with this competition\n",
    "X"
   ]
  },
  {
   "cell_type": "code",
   "execution_count": 4,
   "id": "cbfb74c8",
   "metadata": {
    "execution": {
     "iopub.execute_input": "2022-08-21T00:14:06.426222Z",
     "iopub.status.busy": "2022-08-21T00:14:06.425919Z",
     "iopub.status.idle": "2022-08-21T00:14:06.433218Z",
     "shell.execute_reply": "2022-08-21T00:14:06.432378Z"
    },
    "papermill": {
     "duration": 0.034249,
     "end_time": "2022-08-21T00:14:06.435375",
     "exception": false,
     "start_time": "2022-08-21T00:14:06.401126",
     "status": "completed"
    },
    "tags": []
   },
   "outputs": [
    {
     "data": {
      "text/plain": [
       "PassengerId      object\n",
       "HomePlanet       object\n",
       "CryoSleep        object\n",
       "Cabin            object\n",
       "Destination      object\n",
       "Age             float64\n",
       "VIP              object\n",
       "RoomService     float64\n",
       "FoodCourt       float64\n",
       "ShoppingMall    float64\n",
       "Spa             float64\n",
       "VRDeck          float64\n",
       "Transported        bool\n",
       "dtype: object"
      ]
     },
     "execution_count": 4,
     "metadata": {},
     "output_type": "execute_result"
    }
   ],
   "source": [
    "#checking to see categorical vs numerical cols\n",
    "X.dtypes"
   ]
  },
  {
   "cell_type": "code",
   "execution_count": 5,
   "id": "936825fd",
   "metadata": {
    "execution": {
     "iopub.execute_input": "2022-08-21T00:14:06.484343Z",
     "iopub.status.busy": "2022-08-21T00:14:06.483776Z",
     "iopub.status.idle": "2022-08-21T00:14:06.494837Z",
     "shell.execute_reply": "2022-08-21T00:14:06.494173Z"
    },
    "papermill": {
     "duration": 0.038201,
     "end_time": "2022-08-21T00:14:06.496948",
     "exception": false,
     "start_time": "2022-08-21T00:14:06.458747",
     "status": "completed"
    },
    "tags": []
   },
   "outputs": [
    {
     "data": {
      "text/plain": [
       "PassengerId       0\n",
       "HomePlanet      201\n",
       "CryoSleep       217\n",
       "Cabin           199\n",
       "Destination     182\n",
       "Age             179\n",
       "VIP             203\n",
       "RoomService     181\n",
       "FoodCourt       183\n",
       "ShoppingMall    208\n",
       "Spa             183\n",
       "VRDeck          188\n",
       "Transported       0\n",
       "dtype: int64"
      ]
     },
     "execution_count": 5,
     "metadata": {},
     "output_type": "execute_result"
    }
   ],
   "source": [
    "#checking for nulls\n",
    "X.isnull().sum()"
   ]
  },
  {
   "cell_type": "code",
   "execution_count": 6,
   "id": "271e25e0",
   "metadata": {
    "execution": {
     "iopub.execute_input": "2022-08-21T00:14:06.547010Z",
     "iopub.status.busy": "2022-08-21T00:14:06.546273Z",
     "iopub.status.idle": "2022-08-21T00:14:06.556961Z",
     "shell.execute_reply": "2022-08-21T00:14:06.556286Z"
    },
    "papermill": {
     "duration": 0.037675,
     "end_time": "2022-08-21T00:14:06.558886",
     "exception": false,
     "start_time": "2022-08-21T00:14:06.521211",
     "status": "completed"
    },
    "tags": []
   },
   "outputs": [],
   "source": [
    "#converting bool to 0 or 1\n",
    "X[\"VIP\"] = (X[\"VIP\"] == True).astype(float)\n",
    "X[\"CryoSleep\"] = (X[\"CryoSleep\"] == True).astype(float)"
   ]
  },
  {
   "cell_type": "code",
   "execution_count": 7,
   "id": "580bd1ef",
   "metadata": {
    "execution": {
     "iopub.execute_input": "2022-08-21T00:14:06.609228Z",
     "iopub.status.busy": "2022-08-21T00:14:06.608922Z",
     "iopub.status.idle": "2022-08-21T00:14:06.615731Z",
     "shell.execute_reply": "2022-08-21T00:14:06.614992Z"
    },
    "papermill": {
     "duration": 0.034596,
     "end_time": "2022-08-21T00:14:06.617743",
     "exception": false,
     "start_time": "2022-08-21T00:14:06.583147",
     "status": "completed"
    },
    "tags": []
   },
   "outputs": [],
   "source": [
    "y = X[\"Transported\"] #this is what we are looking for\n",
    "X = X.drop(columns=[\"Transported\"]) #remove y from X"
   ]
  },
  {
   "cell_type": "code",
   "execution_count": 8,
   "id": "b6e942e5",
   "metadata": {
    "execution": {
     "iopub.execute_input": "2022-08-21T00:14:06.670347Z",
     "iopub.status.busy": "2022-08-21T00:14:06.669776Z",
     "iopub.status.idle": "2022-08-21T00:14:06.677138Z",
     "shell.execute_reply": "2022-08-21T00:14:06.676517Z"
    },
    "papermill": {
     "duration": 0.034591,
     "end_time": "2022-08-21T00:14:06.679103",
     "exception": false,
     "start_time": "2022-08-21T00:14:06.644512",
     "status": "completed"
    },
    "tags": []
   },
   "outputs": [],
   "source": [
    "#do training and test split\n",
    "X_train, X_test, y_train, y_test = train_test_split(X,y,test_size=0.2)"
   ]
  },
  {
   "cell_type": "code",
   "execution_count": 9,
   "id": "ded2d7bf",
   "metadata": {
    "execution": {
     "iopub.execute_input": "2022-08-21T00:14:06.728996Z",
     "iopub.status.busy": "2022-08-21T00:14:06.728457Z",
     "iopub.status.idle": "2022-08-21T00:14:06.794820Z",
     "shell.execute_reply": "2022-08-21T00:14:06.793912Z"
    },
    "papermill": {
     "duration": 0.094281,
     "end_time": "2022-08-21T00:14:06.797567",
     "exception": false,
     "start_time": "2022-08-21T00:14:06.703286",
     "status": "completed"
    },
    "tags": []
   },
   "outputs": [],
   "source": [
    "# getting all preprocessors\n",
    "from sklearn.preprocessing import OrdinalEncoder, StandardScaler #to encode categorical variables\n",
    "from sklearn.impute import SimpleImputer #to impute numerical values\n",
    "from sklearn.compose import ColumnTransformer #to perform ops of columns seperately\n",
    "from sklearn.pipeline import Pipeline #this ties the entire thing together to define a pipeline for all processing steps"
   ]
  },
  {
   "cell_type": "code",
   "execution_count": 10,
   "id": "d1d0db2f",
   "metadata": {
    "execution": {
     "iopub.execute_input": "2022-08-21T00:14:06.848319Z",
     "iopub.status.busy": "2022-08-21T00:14:06.847754Z",
     "iopub.status.idle": "2022-08-21T00:14:06.853634Z",
     "shell.execute_reply": "2022-08-21T00:14:06.852982Z"
    },
    "papermill": {
     "duration": 0.0342,
     "end_time": "2022-08-21T00:14:06.855708",
     "exception": false,
     "start_time": "2022-08-21T00:14:06.821508",
     "status": "completed"
    },
    "tags": []
   },
   "outputs": [],
   "source": [
    "#scaleing should be done after imputation\n",
    "numeric_transformer = Pipeline(steps=[\n",
    "    ('imputer', SimpleImputer(strategy='mean')),\n",
    "    ('scaler', StandardScaler())\n",
    "])\n",
    "#encode first then impute\n",
    "#setting unknown value to be an arbitrary one\n",
    "#very ineffecient\n",
    "categorical_transformer = Pipeline(steps=[\n",
    "    ('encoder', OrdinalEncoder(handle_unknown='use_encoded_value',unknown_value=9999)),\n",
    "    ('imputer', SimpleImputer(strategy='constant'))\n",
    "])"
   ]
  },
  {
   "cell_type": "code",
   "execution_count": 11,
   "id": "b453aeec",
   "metadata": {
    "execution": {
     "iopub.execute_input": "2022-08-21T00:14:06.905524Z",
     "iopub.status.busy": "2022-08-21T00:14:06.904958Z",
     "iopub.status.idle": "2022-08-21T00:14:06.919627Z",
     "shell.execute_reply": "2022-08-21T00:14:06.917937Z"
    },
    "papermill": {
     "duration": 0.043228,
     "end_time": "2022-08-21T00:14:06.922804",
     "exception": false,
     "start_time": "2022-08-21T00:14:06.879576",
     "status": "completed"
    },
    "tags": []
   },
   "outputs": [
    {
     "data": {
      "text/plain": [
       "(Index(['CryoSleep', 'Age', 'VIP', 'RoomService', 'FoodCourt', 'ShoppingMall',\n",
       "        'Spa', 'VRDeck'],\n",
       "       dtype='object'),\n",
       " Index(['PassengerId', 'HomePlanet', 'Cabin', 'Destination'], dtype='object'))"
      ]
     },
     "execution_count": 11,
     "metadata": {},
     "output_type": "execute_result"
    }
   ],
   "source": [
    "#splitting the categorical and numerical column names into different lists\n",
    "numeric_columns = X.select_dtypes(np.float64).columns\n",
    "categorical_columns = X.select_dtypes(object).columns\n",
    "numeric_columns, categorical_columns"
   ]
  },
  {
   "cell_type": "code",
   "execution_count": 12,
   "id": "7a801e08",
   "metadata": {
    "execution": {
     "iopub.execute_input": "2022-08-21T00:14:06.982272Z",
     "iopub.status.busy": "2022-08-21T00:14:06.981730Z",
     "iopub.status.idle": "2022-08-21T00:14:06.988059Z",
     "shell.execute_reply": "2022-08-21T00:14:06.987351Z"
    },
    "papermill": {
     "duration": 0.041764,
     "end_time": "2022-08-21T00:14:06.990409",
     "exception": false,
     "start_time": "2022-08-21T00:14:06.948645",
     "status": "completed"
    },
    "tags": []
   },
   "outputs": [],
   "source": [
    "#specifying a preprocessor\n",
    "preprocessor = ColumnTransformer(\n",
    "transformers = [\n",
    "    ('numeric',numeric_transformer,numeric_columns),\n",
    "    ('categorical', categorical_transformer, categorical_columns)\n",
    "])"
   ]
  },
  {
   "cell_type": "code",
   "execution_count": 13,
   "id": "6bddf819",
   "metadata": {
    "execution": {
     "iopub.execute_input": "2022-08-21T00:14:07.054926Z",
     "iopub.status.busy": "2022-08-21T00:14:07.054554Z",
     "iopub.status.idle": "2022-08-21T00:14:07.059603Z",
     "shell.execute_reply": "2022-08-21T00:14:07.058774Z"
    },
    "papermill": {
     "duration": 0.046155,
     "end_time": "2022-08-21T00:14:07.064121",
     "exception": false,
     "start_time": "2022-08-21T00:14:07.017966",
     "status": "completed"
    },
    "tags": []
   },
   "outputs": [],
   "source": [
    "#defining the full pipeline\n",
    "pipeline = Pipeline(steps=[\n",
    "    ('preprocessor',preprocessor),\n",
    "    ('regressor', LogisticRegression(max_iter=500))\n",
    "])"
   ]
  },
  {
   "cell_type": "code",
   "execution_count": 14,
   "id": "ab397967",
   "metadata": {
    "execution": {
     "iopub.execute_input": "2022-08-21T00:14:07.138104Z",
     "iopub.status.busy": "2022-08-21T00:14:07.137450Z",
     "iopub.status.idle": "2022-08-21T00:14:07.536394Z",
     "shell.execute_reply": "2022-08-21T00:14:07.534650Z"
    },
    "papermill": {
     "duration": 0.43947,
     "end_time": "2022-08-21T00:14:07.540414",
     "exception": false,
     "start_time": "2022-08-21T00:14:07.100944",
     "status": "completed"
    },
    "tags": []
   },
   "outputs": [
    {
     "name": "stdout",
     "output_type": "stream",
     "text": [
      "Pipeline(steps=[('preprocessor',\n",
      "                 ColumnTransformer(transformers=[('numeric',\n",
      "                                                  Pipeline(steps=[('imputer',\n",
      "                                                                   SimpleImputer()),\n",
      "                                                                  ('scaler',\n",
      "                                                                   StandardScaler())]),\n",
      "                                                  Index(['CryoSleep', 'Age', 'VIP', 'RoomService', 'FoodCourt', 'ShoppingMall',\n",
      "       'Spa', 'VRDeck'],\n",
      "      dtype='object')),\n",
      "                                                 ('categorical',\n",
      "                                                  Pipeline(steps=[('encoder',\n",
      "                                                                   OrdinalEncoder(handle_unknown='use_encoded_value',\n",
      "                                                                                  unknown_value=9999)),\n",
      "                                                                  ('imputer',\n",
      "                                                                   SimpleImputer(strategy='constant'))]),\n",
      "                                                  Index(['PassengerId', 'HomePlanet', 'Cabin', 'Destination'], dtype='object'))])),\n",
      "                ('regressor', LogisticRegression(max_iter=500))])\n"
     ]
    }
   ],
   "source": [
    "logistic_reg_model = pipeline.fit(X_train,y_train)\n",
    "print(logistic_reg_model)"
   ]
  },
  {
   "cell_type": "code",
   "execution_count": 15,
   "id": "e40959c0",
   "metadata": {
    "execution": {
     "iopub.execute_input": "2022-08-21T00:14:07.616786Z",
     "iopub.status.busy": "2022-08-21T00:14:07.616514Z",
     "iopub.status.idle": "2022-08-21T00:14:07.664240Z",
     "shell.execute_reply": "2022-08-21T00:14:07.663280Z"
    },
    "papermill": {
     "duration": 0.083689,
     "end_time": "2022-08-21T00:14:07.669215",
     "exception": false,
     "start_time": "2022-08-21T00:14:07.585526",
     "status": "completed"
    },
    "tags": []
   },
   "outputs": [
    {
     "data": {
      "text/plain": [
       "array([ True, False, False, ..., False,  True, False])"
      ]
     },
     "execution_count": 15,
     "metadata": {},
     "output_type": "execute_result"
    }
   ],
   "source": [
    "#checking how well we did\n",
    "from sklearn.metrics import r2_score\n",
    "predictions = logistic_reg_model.predict(X_test)\n",
    "predictions"
   ]
  },
  {
   "cell_type": "code",
   "execution_count": 16,
   "id": "4d29f915",
   "metadata": {
    "execution": {
     "iopub.execute_input": "2022-08-21T00:14:07.748194Z",
     "iopub.status.busy": "2022-08-21T00:14:07.747818Z",
     "iopub.status.idle": "2022-08-21T00:14:07.788157Z",
     "shell.execute_reply": "2022-08-21T00:14:07.787258Z"
    },
    "papermill": {
     "duration": 0.082687,
     "end_time": "2022-08-21T00:14:07.790576",
     "exception": false,
     "start_time": "2022-08-21T00:14:07.707889",
     "status": "completed"
    },
    "tags": []
   },
   "outputs": [
    {
     "data": {
      "text/html": [
       "<div>\n",
       "<style scoped>\n",
       "    .dataframe tbody tr th:only-of-type {\n",
       "        vertical-align: middle;\n",
       "    }\n",
       "\n",
       "    .dataframe tbody tr th {\n",
       "        vertical-align: top;\n",
       "    }\n",
       "\n",
       "    .dataframe thead th {\n",
       "        text-align: right;\n",
       "    }\n",
       "</style>\n",
       "<table border=\"1\" class=\"dataframe\">\n",
       "  <thead>\n",
       "    <tr style=\"text-align: right;\">\n",
       "      <th></th>\n",
       "      <th>PassengerId</th>\n",
       "      <th>HomePlanet</th>\n",
       "      <th>CryoSleep</th>\n",
       "      <th>Cabin</th>\n",
       "      <th>Destination</th>\n",
       "      <th>Age</th>\n",
       "      <th>VIP</th>\n",
       "      <th>RoomService</th>\n",
       "      <th>FoodCourt</th>\n",
       "      <th>ShoppingMall</th>\n",
       "      <th>Spa</th>\n",
       "      <th>VRDeck</th>\n",
       "    </tr>\n",
       "  </thead>\n",
       "  <tbody>\n",
       "    <tr>\n",
       "      <th>614</th>\n",
       "      <td>0642_02</td>\n",
       "      <td>Europa</td>\n",
       "      <td>0.0</td>\n",
       "      <td>C/25/S</td>\n",
       "      <td>55 Cancri e</td>\n",
       "      <td>36.0</td>\n",
       "      <td>0.0</td>\n",
       "      <td>0.0</td>\n",
       "      <td>4967.0</td>\n",
       "      <td>82.0</td>\n",
       "      <td>1517.0</td>\n",
       "      <td>575.0</td>\n",
       "    </tr>\n",
       "    <tr>\n",
       "      <th>441</th>\n",
       "      <td>0472_01</td>\n",
       "      <td>Earth</td>\n",
       "      <td>0.0</td>\n",
       "      <td>F/87/S</td>\n",
       "      <td>PSO J318.5-22</td>\n",
       "      <td>37.0</td>\n",
       "      <td>0.0</td>\n",
       "      <td>0.0</td>\n",
       "      <td>10.0</td>\n",
       "      <td>544.0</td>\n",
       "      <td>9.0</td>\n",
       "      <td>299.0</td>\n",
       "    </tr>\n",
       "    <tr>\n",
       "      <th>2030</th>\n",
       "      <td>2171_01</td>\n",
       "      <td>Earth</td>\n",
       "      <td>0.0</td>\n",
       "      <td>F/433/P</td>\n",
       "      <td>TRAPPIST-1e</td>\n",
       "      <td>24.0</td>\n",
       "      <td>0.0</td>\n",
       "      <td>388.0</td>\n",
       "      <td>0.0</td>\n",
       "      <td>7.0</td>\n",
       "      <td>409.0</td>\n",
       "      <td>0.0</td>\n",
       "    </tr>\n",
       "    <tr>\n",
       "      <th>4870</th>\n",
       "      <td>5196_01</td>\n",
       "      <td>Earth</td>\n",
       "      <td>1.0</td>\n",
       "      <td>G/839/P</td>\n",
       "      <td>TRAPPIST-1e</td>\n",
       "      <td>43.0</td>\n",
       "      <td>0.0</td>\n",
       "      <td>0.0</td>\n",
       "      <td>0.0</td>\n",
       "      <td>0.0</td>\n",
       "      <td>0.0</td>\n",
       "      <td>0.0</td>\n",
       "    </tr>\n",
       "    <tr>\n",
       "      <th>281</th>\n",
       "      <td>0313_01</td>\n",
       "      <td>Earth</td>\n",
       "      <td>0.0</td>\n",
       "      <td>F/68/P</td>\n",
       "      <td>PSO J318.5-22</td>\n",
       "      <td>60.0</td>\n",
       "      <td>0.0</td>\n",
       "      <td>7.0</td>\n",
       "      <td>540.0</td>\n",
       "      <td>1.0</td>\n",
       "      <td>0.0</td>\n",
       "      <td>4.0</td>\n",
       "    </tr>\n",
       "    <tr>\n",
       "      <th>...</th>\n",
       "      <td>...</td>\n",
       "      <td>...</td>\n",
       "      <td>...</td>\n",
       "      <td>...</td>\n",
       "      <td>...</td>\n",
       "      <td>...</td>\n",
       "      <td>...</td>\n",
       "      <td>...</td>\n",
       "      <td>...</td>\n",
       "      <td>...</td>\n",
       "      <td>...</td>\n",
       "      <td>...</td>\n",
       "    </tr>\n",
       "    <tr>\n",
       "      <th>1316</th>\n",
       "      <td>1393_02</td>\n",
       "      <td>Mars</td>\n",
       "      <td>0.0</td>\n",
       "      <td>F/270/S</td>\n",
       "      <td>TRAPPIST-1e</td>\n",
       "      <td>19.0</td>\n",
       "      <td>0.0</td>\n",
       "      <td>2058.0</td>\n",
       "      <td>0.0</td>\n",
       "      <td>224.0</td>\n",
       "      <td>298.0</td>\n",
       "      <td>19.0</td>\n",
       "    </tr>\n",
       "    <tr>\n",
       "      <th>3493</th>\n",
       "      <td>3753_01</td>\n",
       "      <td>Earth</td>\n",
       "      <td>0.0</td>\n",
       "      <td>F/776/P</td>\n",
       "      <td>55 Cancri e</td>\n",
       "      <td>55.0</td>\n",
       "      <td>0.0</td>\n",
       "      <td>0.0</td>\n",
       "      <td>519.0</td>\n",
       "      <td>131.0</td>\n",
       "      <td>63.0</td>\n",
       "      <td>3.0</td>\n",
       "    </tr>\n",
       "    <tr>\n",
       "      <th>3089</th>\n",
       "      <td>3329_01</td>\n",
       "      <td>Earth</td>\n",
       "      <td>1.0</td>\n",
       "      <td>G/544/P</td>\n",
       "      <td>TRAPPIST-1e</td>\n",
       "      <td>55.0</td>\n",
       "      <td>0.0</td>\n",
       "      <td>0.0</td>\n",
       "      <td>0.0</td>\n",
       "      <td>0.0</td>\n",
       "      <td>0.0</td>\n",
       "      <td>0.0</td>\n",
       "    </tr>\n",
       "    <tr>\n",
       "      <th>4619</th>\n",
       "      <td>4923_03</td>\n",
       "      <td>Mars</td>\n",
       "      <td>0.0</td>\n",
       "      <td>F/935/S</td>\n",
       "      <td>TRAPPIST-1e</td>\n",
       "      <td>24.0</td>\n",
       "      <td>0.0</td>\n",
       "      <td>261.0</td>\n",
       "      <td>0.0</td>\n",
       "      <td>780.0</td>\n",
       "      <td>0.0</td>\n",
       "      <td>0.0</td>\n",
       "    </tr>\n",
       "    <tr>\n",
       "      <th>3252</th>\n",
       "      <td>3491_01</td>\n",
       "      <td>Earth</td>\n",
       "      <td>0.0</td>\n",
       "      <td>F/720/P</td>\n",
       "      <td>TRAPPIST-1e</td>\n",
       "      <td>15.0</td>\n",
       "      <td>0.0</td>\n",
       "      <td>0.0</td>\n",
       "      <td>0.0</td>\n",
       "      <td>0.0</td>\n",
       "      <td>6.0</td>\n",
       "      <td>607.0</td>\n",
       "    </tr>\n",
       "  </tbody>\n",
       "</table>\n",
       "<p>1739 rows × 12 columns</p>\n",
       "</div>"
      ],
      "text/plain": [
       "     PassengerId HomePlanet  CryoSleep    Cabin    Destination   Age  VIP  \\\n",
       "614      0642_02     Europa        0.0   C/25/S    55 Cancri e  36.0  0.0   \n",
       "441      0472_01      Earth        0.0   F/87/S  PSO J318.5-22  37.0  0.0   \n",
       "2030     2171_01      Earth        0.0  F/433/P    TRAPPIST-1e  24.0  0.0   \n",
       "4870     5196_01      Earth        1.0  G/839/P    TRAPPIST-1e  43.0  0.0   \n",
       "281      0313_01      Earth        0.0   F/68/P  PSO J318.5-22  60.0  0.0   \n",
       "...          ...        ...        ...      ...            ...   ...  ...   \n",
       "1316     1393_02       Mars        0.0  F/270/S    TRAPPIST-1e  19.0  0.0   \n",
       "3493     3753_01      Earth        0.0  F/776/P    55 Cancri e  55.0  0.0   \n",
       "3089     3329_01      Earth        1.0  G/544/P    TRAPPIST-1e  55.0  0.0   \n",
       "4619     4923_03       Mars        0.0  F/935/S    TRAPPIST-1e  24.0  0.0   \n",
       "3252     3491_01      Earth        0.0  F/720/P    TRAPPIST-1e  15.0  0.0   \n",
       "\n",
       "      RoomService  FoodCourt  ShoppingMall     Spa  VRDeck  \n",
       "614           0.0     4967.0          82.0  1517.0   575.0  \n",
       "441           0.0       10.0         544.0     9.0   299.0  \n",
       "2030        388.0        0.0           7.0   409.0     0.0  \n",
       "4870          0.0        0.0           0.0     0.0     0.0  \n",
       "281           7.0      540.0           1.0     0.0     4.0  \n",
       "...           ...        ...           ...     ...     ...  \n",
       "1316       2058.0        0.0         224.0   298.0    19.0  \n",
       "3493          0.0      519.0         131.0    63.0     3.0  \n",
       "3089          0.0        0.0           0.0     0.0     0.0  \n",
       "4619        261.0        0.0         780.0     0.0     0.0  \n",
       "3252          0.0        0.0           0.0     6.0   607.0  \n",
       "\n",
       "[1739 rows x 12 columns]"
      ]
     },
     "execution_count": 16,
     "metadata": {},
     "output_type": "execute_result"
    }
   ],
   "source": [
    "X_test"
   ]
  },
  {
   "cell_type": "code",
   "execution_count": 17,
   "id": "74609947",
   "metadata": {
    "execution": {
     "iopub.execute_input": "2022-08-21T00:14:07.846477Z",
     "iopub.status.busy": "2022-08-21T00:14:07.845603Z",
     "iopub.status.idle": "2022-08-21T00:14:07.859131Z",
     "shell.execute_reply": "2022-08-21T00:14:07.858182Z"
    },
    "papermill": {
     "duration": 0.043687,
     "end_time": "2022-08-21T00:14:07.861688",
     "exception": false,
     "start_time": "2022-08-21T00:14:07.818001",
     "status": "completed"
    },
    "tags": []
   },
   "outputs": [
    {
     "data": {
      "text/plain": [
       "'              precision    recall  f1-score   support\\n\\n       False       0.68      0.86      0.76       853\\n        True       0.82      0.61      0.70       886\\n\\n    accuracy                           0.73      1739\\n   macro avg       0.75      0.74      0.73      1739\\nweighted avg       0.75      0.73      0.73      1739\\n'"
      ]
     },
     "execution_count": 17,
     "metadata": {},
     "output_type": "execute_result"
    }
   ],
   "source": [
    "from sklearn.metrics import classification_report\n",
    "classification_report(y_test,predictions)"
   ]
  },
  {
   "cell_type": "code",
   "execution_count": 18,
   "id": "e27c9ba9",
   "metadata": {
    "execution": {
     "iopub.execute_input": "2022-08-21T00:14:07.921384Z",
     "iopub.status.busy": "2022-08-21T00:14:07.920065Z",
     "iopub.status.idle": "2022-08-21T00:14:07.957856Z",
     "shell.execute_reply": "2022-08-21T00:14:07.956983Z"
    },
    "papermill": {
     "duration": 0.070078,
     "end_time": "2022-08-21T00:14:07.960483",
     "exception": false,
     "start_time": "2022-08-21T00:14:07.890405",
     "status": "completed"
    },
    "tags": []
   },
   "outputs": [],
   "source": [
    "#getting actual test data\n",
    "test_data = pd.read_csv(\"/kaggle/input/spaceship-titanic/test.csv\")"
   ]
  },
  {
   "cell_type": "code",
   "execution_count": 19,
   "id": "9783bb7e",
   "metadata": {
    "execution": {
     "iopub.execute_input": "2022-08-21T00:14:08.019492Z",
     "iopub.status.busy": "2022-08-21T00:14:08.018746Z",
     "iopub.status.idle": "2022-08-21T00:14:08.100900Z",
     "shell.execute_reply": "2022-08-21T00:14:08.099788Z"
    },
    "papermill": {
     "duration": 0.116826,
     "end_time": "2022-08-21T00:14:08.105928",
     "exception": false,
     "start_time": "2022-08-21T00:14:07.989102",
     "status": "completed"
    },
    "tags": []
   },
   "outputs": [],
   "source": [
    "#making predictions on actual test data\n",
    "predictions_final = logistic_reg_model.predict(test_data)"
   ]
  },
  {
   "cell_type": "code",
   "execution_count": 20,
   "id": "b7f04252",
   "metadata": {
    "execution": {
     "iopub.execute_input": "2022-08-21T00:14:08.192432Z",
     "iopub.status.busy": "2022-08-21T00:14:08.191789Z",
     "iopub.status.idle": "2022-08-21T00:14:08.200043Z",
     "shell.execute_reply": "2022-08-21T00:14:08.198971Z"
    },
    "papermill": {
     "duration": 0.05599,
     "end_time": "2022-08-21T00:14:08.203188",
     "exception": false,
     "start_time": "2022-08-21T00:14:08.147198",
     "status": "completed"
    },
    "tags": []
   },
   "outputs": [],
   "source": [
    "test_data[\"Transported\"] = predictions_final\n",
    "submissons_final = test_data[[\"PassengerId\",\"Transported\"]]"
   ]
  },
  {
   "cell_type": "code",
   "execution_count": 21,
   "id": "f25f75c8",
   "metadata": {
    "execution": {
     "iopub.execute_input": "2022-08-21T00:14:08.265108Z",
     "iopub.status.busy": "2022-08-21T00:14:08.264808Z",
     "iopub.status.idle": "2022-08-21T00:14:08.277405Z",
     "shell.execute_reply": "2022-08-21T00:14:08.276381Z"
    },
    "papermill": {
     "duration": 0.043783,
     "end_time": "2022-08-21T00:14:08.279810",
     "exception": false,
     "start_time": "2022-08-21T00:14:08.236027",
     "status": "completed"
    },
    "tags": []
   },
   "outputs": [],
   "source": [
    "submissons_final.to_csv(\"submission.csv\",index=False)"
   ]
  },
  {
   "cell_type": "code",
   "execution_count": null,
   "id": "e0e35237",
   "metadata": {
    "papermill": {
     "duration": 0.027257,
     "end_time": "2022-08-21T00:14:08.334873",
     "exception": false,
     "start_time": "2022-08-21T00:14:08.307616",
     "status": "completed"
    },
    "tags": []
   },
   "outputs": [],
   "source": []
  }
 ],
 "metadata": {
  "kernelspec": {
   "display_name": "Python 3",
   "language": "python",
   "name": "python3"
  },
  "language_info": {
   "codemirror_mode": {
    "name": "ipython",
    "version": 3
   },
   "file_extension": ".py",
   "mimetype": "text/x-python",
   "name": "python",
   "nbconvert_exporter": "python",
   "pygments_lexer": "ipython3",
   "version": "3.7.12"
  },
  "papermill": {
   "default_parameters": {},
   "duration": 13.848299,
   "end_time": "2022-08-21T00:14:09.084486",
   "environment_variables": {},
   "exception": null,
   "input_path": "__notebook__.ipynb",
   "output_path": "__notebook__.ipynb",
   "parameters": {},
   "start_time": "2022-08-21T00:13:55.236187",
   "version": "2.3.4"
  }
 },
 "nbformat": 4,
 "nbformat_minor": 5
}
