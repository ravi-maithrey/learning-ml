{
 "metadata": {
  "language_info": {
   "codemirror_mode": {
    "name": "ipython",
    "version": 3
   },
   "file_extension": ".py",
   "mimetype": "text/x-python",
   "name": "python",
   "nbconvert_exporter": "python",
   "pygments_lexer": "ipython3",
   "version": "3.8.8"
  },
  "orig_nbformat": 4,
  "kernelspec": {
   "name": "python3",
   "display_name": "Python 3.8.8 64-bit ('base': conda)"
  },
  "interpreter": {
   "hash": "b5fac4eaa32215696b5f6b674c78259c51e7dd2286850d1dae2d3046898d4f39"
  }
 },
 "nbformat": 4,
 "nbformat_minor": 2,
 "cells": [
  {
   "cell_type": "code",
   "execution_count": 1,
   "source": [
    "#creating some data to test the normal equation to find the required parameters\n",
    "import numpy as np\n",
    "\n",
    "X = 2 * np.random.rand(100, 1)\n",
    "y = 4 + 3 * X + np.random.randn(100, 1)"
   ],
   "outputs": [],
   "metadata": {}
  },
  {
   "cell_type": "code",
   "execution_count": 2,
   "source": [
    "import matplotlib.pyplot as plt\n",
    "plt.scatter(X, y)"
   ],
   "outputs": [
    {
     "output_type": "execute_result",
     "data": {
      "text/plain": [
       "<matplotlib.collections.PathCollection at 0x7f336b924880>"
      ]
     },
     "metadata": {},
     "execution_count": 2
    },
    {
     "output_type": "display_data",
     "data": {
      "text/plain": [
       "<Figure size 432x288 with 1 Axes>"
      ],
      "image/png": "[encoded data removed]"
     },
     "metadata": {
      "needs_background": "light"
     }
    }
   ],
   "metadata": {}
  },
  {
   "cell_type": "code",
   "execution_count": 3,
   "source": [
    "X_b = np.c_[np.ones((100, 1)), X] # add x0 = 1 to each instance\n",
    "theta_best = np.linalg.inv(X_b.T.dot(X_b)).dot(X_b.T).dot(y)"
   ],
   "outputs": [],
   "metadata": {}
  },
  {
   "cell_type": "code",
   "execution_count": 4,
   "source": [
    "X_new = np.array([[0], [2]])\n",
    "X_new_b = np.c_[np.ones((2, 1)), X_new] # add x0 = 1 to each instance\n",
    "y_predict = X_new_b.dot(theta_best)\n",
    "y_predict"
   ],
   "outputs": [
    {
     "output_type": "execute_result",
     "data": {
      "text/plain": [
       "array([[4.18276137],\n",
       "       [9.89079802]])"
      ]
     },
     "metadata": {},
     "execution_count": 4
    }
   ],
   "metadata": {}
  },
  {
   "cell_type": "code",
   "execution_count": 5,
   "source": [
    "plt.plot(X_new, y_predict, \"r-\")\n",
    "plt.plot(X, y, \"b.\")\n",
    "plt.axis([0, 2, 0, 15])\n",
    "plt.show()"
   ],
   "outputs": [
    {
     "output_type": "display_data",
     "data": {
      "text/plain": [
       "<Figure size 432x288 with 1 Axes>"
      ],
      "image/png": "[encoded data removed]"
     },
     "metadata": {
      "needs_background": "light"
     }
    }
   ],
   "metadata": {}
  },
  {
   "cell_type": "code",
   "execution_count": 6,
   "source": [
    "#performing this same linear regression using scikit learn\n",
    "from sklearn.linear_model import LinearRegression\n",
    "lin_reg = LinearRegression()\n",
    "lin_reg.fit(X, y)\n"
   ],
   "outputs": [
    {
     "output_type": "execute_result",
     "data": {
      "text/plain": [
       "LinearRegression()"
      ]
     },
     "metadata": {},
     "execution_count": 6
    }
   ],
   "metadata": {}
  },
  {
   "cell_type": "markdown",
   "source": [
    "The above method is more efficient than directly computing the normal equation. In addition to that, if matrix has no inverse, normal equation doesnt work, but this linear regression method in sklearn works because it calculates the pseudo-inverse via the Moore-Penrose method"
   ],
   "metadata": {}
  },
  {
   "cell_type": "markdown",
   "source": [
    "We can improve the way we estimate the parameters in any machine learning scenario via gradient descent. The most basic is batch gradient descent where all the training examples are used at the same time.\n",
    "\n",
    "Stochastic GD is when the training examples are stochastically chosen and used for training one at a time. If we wish to implement Stochastic Gradient Descent we have a specific class for that"
   ],
   "metadata": {}
  },
  {
   "cell_type": "code",
   "execution_count": 8,
   "source": [
    "from sklearn.linear_model import SGDRegressor"
   ],
   "outputs": [],
   "metadata": {}
  },
  {
   "cell_type": "code",
   "execution_count": 9,
   "source": [
    "sgd_reg = SGDRegressor(max_iter=1000, tol=1e-3, penalty=None, eta0=0.1)\n",
    "sgd_reg.fit(X, y.ravel())"
   ],
   "outputs": [
    {
     "output_type": "execute_result",
     "data": {
      "text/plain": [
       "SGDRegressor(eta0=0.1, penalty=None)"
      ]
     },
     "metadata": {},
     "execution_count": 9
    }
   ],
   "metadata": {}
  },
  {
   "cell_type": "markdown",
   "source": [
    "The final type of gradient descent is mini-batch gradient descent"
   ],
   "metadata": {}
  },
  {
   "cell_type": "markdown",
   "source": [
    "### Fitting Polynomial Features"
   ],
   "metadata": {}
  },
  {
   "cell_type": "code",
   "execution_count": 10,
   "source": [
    "# defining a quadriatic distribution to serve as our data\n",
    "m = 100\n",
    "X = 6 * np.random.randn(m, 1) - 3\n",
    "y = 0.5 * X**2 + X + 2 + np.random.randn(m,1) #this last part is to simulate some random noise"
   ],
   "outputs": [],
   "metadata": {}
  },
  {
   "cell_type": "code",
   "execution_count": 16,
   "source": [
    "from sklearn.preprocessing import PolynomialFeatures\n",
    "poly_features = PolynomialFeatures(degree=2, include_bias=False, )\n",
    "X_poly = poly_features.fit_transform(X)\n"
   ],
   "outputs": [],
   "metadata": {}
  },
  {
   "cell_type": "code",
   "execution_count": 17,
   "source": [
    "X[0], X_poly"
   ],
   "outputs": [
    {
     "output_type": "execute_result",
     "data": {
      "text/plain": [
       "(array([-4.20536917]),\n",
       " array([[-4.20536917e+00,  1.76851299e+01],\n",
       "        [ 2.09162942e+00,  4.37491362e+00],\n",
       "        [-1.33353419e+01,  1.77831345e+02],\n",
       "        [-2.25162391e+00,  5.06981023e+00],\n",
       "        [-1.20222614e+01,  1.44534769e+02],\n",
       "        [ 7.32396589e+00,  5.36404764e+01],\n",
       "        [-9.49031952e-01,  9.00661646e-01],\n",
       "        [-3.99863619e+00,  1.59890914e+01],\n",
       "        [ 1.49623924e+00,  2.23873187e+00],\n",
       "        [ 8.64951125e-01,  7.48140449e-01],\n",
       "        [ 3.72490701e+00,  1.38749322e+01],\n",
       "        [-5.80158840e+00,  3.36584280e+01],\n",
       "        [ 4.95750143e-02,  2.45768204e-03],\n",
       "        [ 3.45743461e-01,  1.19538541e-01],\n",
       "        [-3.06800884e+00,  9.41267826e+00],\n",
       "        [-1.07959922e+01,  1.16553449e+02],\n",
       "        [ 3.26268976e+00,  1.06451444e+01],\n",
       "        [-2.37902795e+00,  5.65977398e+00],\n",
       "        [ 5.36541491e+00,  2.87876771e+01],\n",
       "        [-4.28389839e+00,  1.83517854e+01],\n",
       "        [ 7.68625454e-01,  5.90785089e-01],\n",
       "        [-4.95068790e+00,  2.45093107e+01],\n",
       "        [ 1.32416358e+01,  1.75340917e+02],\n",
       "        [-5.83496247e+00,  3.40467870e+01],\n",
       "        [-8.78267462e+00,  7.71353735e+01],\n",
       "        [ 6.15541825e+00,  3.78891738e+01],\n",
       "        [-7.26418708e+00,  5.27684139e+01],\n",
       "        [-4.43881633e+00,  1.97030904e+01],\n",
       "        [-3.61511123e+00,  1.30690292e+01],\n",
       "        [-1.02562414e+01,  1.05190488e+02],\n",
       "        [-5.16090642e-02,  2.66349550e-03],\n",
       "        [-4.05783836e+00,  1.64660521e+01],\n",
       "        [-1.10433661e+00,  1.21955934e+00],\n",
       "        [ 3.74754642e+00,  1.40441042e+01],\n",
       "        [-1.52823905e+00,  2.33551460e+00],\n",
       "        [ 5.04565863e+00,  2.54586710e+01],\n",
       "        [-1.10316278e+01,  1.21696811e+02],\n",
       "        [ 7.52906285e-01,  5.66867874e-01],\n",
       "        [-1.06636425e+01,  1.13713271e+02],\n",
       "        [-1.85270170e+00,  3.43250359e+00],\n",
       "        [ 9.26961758e+00,  8.59258101e+01],\n",
       "        [-6.74062855e+00,  4.54360732e+01],\n",
       "        [-2.54710734e+00,  6.48775582e+00],\n",
       "        [-1.12560258e+01,  1.26698117e+02],\n",
       "        [-4.59669479e+00,  2.11296030e+01],\n",
       "        [ 6.63783188e+00,  4.40608121e+01],\n",
       "        [-2.98198860e+00,  8.89225599e+00],\n",
       "        [-2.06462525e+00,  4.26267743e+00],\n",
       "        [-5.05463798e+00,  2.55493651e+01],\n",
       "        [ 1.03207227e+00,  1.06517318e+00],\n",
       "        [-5.95397693e+00,  3.54498413e+01],\n",
       "        [ 3.12965981e+00,  9.79477052e+00],\n",
       "        [-1.00325710e+01,  1.00652480e+02],\n",
       "        [-1.02924991e+01,  1.05935539e+02],\n",
       "        [-4.90764469e+00,  2.40849764e+01],\n",
       "        [ 4.02980915e+00,  1.62393618e+01],\n",
       "        [-6.57418955e+00,  4.32199683e+01],\n",
       "        [-1.61752499e+00,  2.61638709e+00],\n",
       "        [-8.20937900e+00,  6.73939035e+01],\n",
       "        [-8.47652745e+00,  7.18515176e+01],\n",
       "        [-5.08378871e+00,  2.58449076e+01],\n",
       "        [ 1.13697513e+01,  1.29271246e+02],\n",
       "        [ 5.73037043e+00,  3.28371453e+01],\n",
       "        [-1.02869611e+01,  1.05821568e+02],\n",
       "        [-2.26316269e+00,  5.12190534e+00],\n",
       "        [ 8.81993733e+00,  7.77912945e+01],\n",
       "        [-4.49147981e+00,  2.01733909e+01],\n",
       "        [-3.28162850e+00,  1.07690856e+01],\n",
       "        [ 6.79105591e+00,  4.61184404e+01],\n",
       "        [-6.04443527e+00,  3.65351977e+01],\n",
       "        [-3.26635941e+00,  1.06691038e+01],\n",
       "        [-7.02284086e-01,  4.93202937e-01],\n",
       "        [-8.88347544e-01,  7.89161359e-01],\n",
       "        [ 3.44814522e-01,  1.18897055e-01],\n",
       "        [-4.75259995e+00,  2.25872063e+01],\n",
       "        [ 2.12092461e+00,  4.49832118e+00],\n",
       "        [-4.08516969e+00,  1.66886114e+01],\n",
       "        [-3.18227536e+00,  1.01268765e+01],\n",
       "        [-4.37919717e-01,  1.91773678e-01],\n",
       "        [ 1.06304724e+00,  1.13006944e+00],\n",
       "        [-1.10593262e+01,  1.22308697e+02],\n",
       "        [-3.66169680e+00,  1.34080234e+01],\n",
       "        [ 6.89333047e+00,  4.75180050e+01],\n",
       "        [-1.48592425e+00,  2.20797087e+00],\n",
       "        [-4.86606175e+00,  2.36785570e+01],\n",
       "        [ 3.86236175e+00,  1.49178383e+01],\n",
       "        [-4.45219368e+00,  1.98220285e+01],\n",
       "        [ 9.72915613e-01,  9.46564789e-01],\n",
       "        [-5.48976557e+00,  3.01375260e+01],\n",
       "        [ 2.23123324e+00,  4.97840178e+00],\n",
       "        [ 3.95882953e+00,  1.56723312e+01],\n",
       "        [-5.06276943e+00,  2.56316343e+01],\n",
       "        [ 5.51714925e+00,  3.04389359e+01],\n",
       "        [-6.61482848e+00,  4.37559558e+01],\n",
       "        [-3.57085052e+00,  1.27509734e+01],\n",
       "        [-6.95044227e+00,  4.83086477e+01],\n",
       "        [-1.42696776e+01,  2.03623699e+02],\n",
       "        [-4.80478707e+00,  2.30859787e+01],\n",
       "        [-6.06953039e+00,  3.68391991e+01],\n",
       "        [-8.25837932e+00,  6.82008289e+01]]))"
      ]
     },
     "metadata": {},
     "execution_count": 17
    }
   ],
   "metadata": {}
  },
  {
   "cell_type": "code",
   "execution_count": 18,
   "source": [
    "#we fit these polynomial features into the linear regression\n",
    "linear_reg = LinearRegression()\n",
    "linear_reg.fit(X_poly, y)"
   ],
   "outputs": [
    {
     "output_type": "execute_result",
     "data": {
      "text/plain": [
       "LinearRegression()"
      ]
     },
     "metadata": {},
     "execution_count": 18
    }
   ],
   "metadata": {}
  },
  {
   "cell_type": "markdown",
   "source": [
    "### Looking at learning curves to estimate the fit of model to data"
   ],
   "metadata": {}
  },
  {
   "cell_type": "code",
   "execution_count": 19,
   "source": [
    "from sklearn.metrics import mean_squared_error\n",
    "from sklearn.model_selection import train_test_split\n",
    "def plot_learning_curves(model, X, y):\n",
    "    X_train, X_val, y_train, y_val = train_test_split(X, y, test_size=0.2)\n",
    "    train_errors, val_errors = [], []\n",
    "    for m in range(1, len(X_train)):\n",
    "        model.fit(X_train[:m], y_train[:m])\n",
    "        y_train_predict = model.predict(X_train[:m])\n",
    "        y_val_predict = model.predict(X_val)\n",
    "        train_errors.append(mean_squared_error(y_train[:m], y_train_predict))\n",
    "        val_errors.append(mean_squared_error(y_val, y_val_predict))\n",
    "    plt.plot(np.sqrt(train_errors), \"r-+\", linewidth=2, label=\"train\")\n",
    "    plt.plot(np.sqrt(val_errors), \"b-\", linewidth=3, label=\"val\")"
   ],
   "outputs": [],
   "metadata": {}
  },
  {
   "cell_type": "code",
   "execution_count": 20,
   "source": [
    "#plotting the error curves for our quadratic curve above\n",
    "lin_reg = LinearRegression()\n",
    "plot_learning_curves(lin_reg, X, y)"
   ],
   "outputs": [
    {
     "output_type": "display_data",
     "data": {
      "text/plain": [
       "<Figure size 432x288 with 1 Axes>"
      ],
      "image/png": "[encoded data removed]"
     },
     "metadata": {
      "needs_background": "light"
     }
    }
   ],
   "metadata": {}
  },
  {
   "cell_type": "markdown",
   "source": [
    "## A good way to reduce test error is to use modified types of regression"
   ],
   "metadata": {}
  },
  {
   "cell_type": "markdown",
   "source": [],
   "metadata": {}
  }
 ]
}