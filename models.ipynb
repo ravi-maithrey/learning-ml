{
 "metadata": {
  "language_info": {
   "codemirror_mode": {
    "name": "ipython",
    "version": 3
   },
   "file_extension": ".py",
   "mimetype": "text/x-python",
   "name": "python",
   "nbconvert_exporter": "python",
   "pygments_lexer": "ipython3",
   "version": "3.8.8"
  },
  "orig_nbformat": 4,
  "kernelspec": {
   "name": "python3",
   "display_name": "Python 3.8.8 64-bit ('base': conda)"
  },
  "interpreter": {
   "hash": "b5fac4eaa32215696b5f6b674c78259c51e7dd2286850d1dae2d3046898d4f39"
  }
 },
 "nbformat": 4,
 "nbformat_minor": 2,
 "cells": [
  {
   "cell_type": "code",
   "execution_count": 1,
   "source": [
    "#creating some data to test the normal equation to find the required parameters\n",
    "import numpy as np\n",
    "\n",
    "X = 2 * np.random.rand(100, 1)\n",
    "y = 4 + 3 * X + np.random.randn(100, 1)"
   ],
   "outputs": [],
   "metadata": {}
  },
  {
   "cell_type": "code",
   "execution_count": 2,
   "source": [
    "import matplotlib.pyplot as plt\n",
    "plt.scatter(X, y)"
   ],
   "outputs": [
    {
     "output_type": "execute_result",
     "data": {
      "text/plain": [
       "<matplotlib.collections.PathCollection at 0x7f9974279e20>"
      ]
     },
     "metadata": {},
     "execution_count": 2
    },
    {
     "output_type": "display_data",
     "data": {
      "text/plain": [
       "<Figure size 432x288 with 1 Axes>"
      ],
      "image/png": "[encoded data removed]"
     },
     "metadata": {
      "needs_background": "light"
     }
    }
   ],
   "metadata": {}
  },
  {
   "cell_type": "code",
   "execution_count": 3,
   "source": [
    "X_b = np.c_[np.ones((100, 1)), X] # add x0 = 1 to each instance\n",
    "theta_best = np.linalg.inv(X_b.T.dot(X_b)).dot(X_b.T).dot(y)"
   ],
   "outputs": [],
   "metadata": {}
  },
  {
   "cell_type": "code",
   "execution_count": 4,
   "source": [
    "X_new = np.array([[0], [2]])\n",
    "X_new_b = np.c_[np.ones((2, 1)), X_new] # add x0 = 1 to each instance\n",
    "y_predict = X_new_b.dot(theta_best)\n",
    "y_predict"
   ],
   "outputs": [
    {
     "output_type": "execute_result",
     "data": {
      "text/plain": [
       "array([[4.03064377],\n",
       "       [9.99393634]])"
      ]
     },
     "metadata": {},
     "execution_count": 4
    }
   ],
   "metadata": {}
  },
  {
   "cell_type": "code",
   "execution_count": 5,
   "source": [
    "plt.plot(X_new, y_predict, \"r-\")\n",
    "plt.plot(X, y, \"b.\")\n",
    "plt.axis([0, 2, 0, 15])\n",
    "plt.show()"
   ],
   "outputs": [
    {
     "output_type": "display_data",
     "data": {
      "text/plain": [
       "<Figure size 432x288 with 1 Axes>"
      ],
      "image/png": "[encoded data removed]"
     },
     "metadata": {
      "needs_background": "light"
     }
    }
   ],
   "metadata": {}
  },
  {
   "cell_type": "code",
   "execution_count": 6,
   "source": [
    "#performing this same linear regression using scikit learn\n",
    "from sklearn.linear_model import LinearRegression\n",
    "lin_reg = LinearRegression()\n",
    "lin_reg.fit(X, y)\n"
   ],
   "outputs": [
    {
     "output_type": "execute_result",
     "data": {
      "text/plain": [
       "LinearRegression()"
      ]
     },
     "metadata": {},
     "execution_count": 6
    }
   ],
   "metadata": {}
  },
  {
   "cell_type": "markdown",
   "source": [
    "The above method is more efficient than directly computing the normal equation. In addition to that, if matrix has no inverse, normal equation doesnt work, but this linear regression method in sklearn works because it calculates the pseudo-inverse via the Moore-Penrose method"
   ],
   "metadata": {}
  },
  {
   "cell_type": "markdown",
   "source": [
    "We can improve the way we estimate the parameters in any machine learning scenario via gradient descent. The most basic is batch gradient descent where all the training examples are used at the same time.\n",
    "\n",
    "Stochastic GD is when the training examples are stochastically chosen and used for training one at a time. If we wish to implement Stochastic Gradient Descent we have a specific class for that"
   ],
   "metadata": {}
  },
  {
   "cell_type": "code",
   "execution_count": 7,
   "source": [
    "from sklearn.linear_model import SGDRegressor"
   ],
   "outputs": [],
   "metadata": {}
  },
  {
   "cell_type": "code",
   "execution_count": 8,
   "source": [
    "sgd_reg = SGDRegressor(max_iter=1000, tol=1e-3, penalty=None, eta0=0.1)\n",
    "sgd_reg.fit(X, y.ravel())"
   ],
   "outputs": [
    {
     "output_type": "execute_result",
     "data": {
      "text/plain": [
       "SGDRegressor(eta0=0.1, penalty=None)"
      ]
     },
     "metadata": {},
     "execution_count": 8
    }
   ],
   "metadata": {}
  },
  {
   "cell_type": "markdown",
   "source": [
    "The final type of gradient descent is mini-batch gradient descent"
   ],
   "metadata": {}
  },
  {
   "cell_type": "markdown",
   "source": [
    "### Fitting Polynomial Features"
   ],
   "metadata": {}
  },
  {
   "cell_type": "code",
   "execution_count": 9,
   "source": [
    "# defining a quadriatic distribution to serve as our data\n",
    "m = 100\n",
    "X = 6 * np.random.randn(m, 1) - 3\n",
    "y = 0.5 * X**2 + X + 2 + np.random.randn(m,1) #this last part is to simulate some random noise"
   ],
   "outputs": [],
   "metadata": {}
  },
  {
   "cell_type": "code",
   "execution_count": 10,
   "source": [
    "from sklearn.preprocessing import PolynomialFeatures\n",
    "poly_features = PolynomialFeatures(degree=2, include_bias=False, )\n",
    "X_poly = poly_features.fit_transform(X)\n"
   ],
   "outputs": [],
   "metadata": {}
  },
  {
   "cell_type": "code",
   "execution_count": 11,
   "source": [
    "X[0], X_poly"
   ],
   "outputs": [
    {
     "output_type": "execute_result",
     "data": {
      "text/plain": [
       "(array([-2.81710753]),\n",
       " array([[-2.81710753e+00,  7.93609482e+00],\n",
       "        [-2.63830695e-02,  6.96066356e-04],\n",
       "        [ 1.92842301e+00,  3.71881529e+00],\n",
       "        [-1.45200937e+01,  2.10833121e+02],\n",
       "        [ 5.09970640e+00,  2.60070054e+01],\n",
       "        [-9.04523338e+00,  8.18162469e+01],\n",
       "        [-3.79862855e+00,  1.44295789e+01],\n",
       "        [-7.83020365e+00,  6.13120892e+01],\n",
       "        [-4.98884773e+00,  2.48886017e+01],\n",
       "        [-1.30403039e+01,  1.70049526e+02],\n",
       "        [-1.96561384e+00,  3.86363775e+00],\n",
       "        [-2.00715495e+00,  4.02867098e+00],\n",
       "        [-1.18232368e+01,  1.39788929e+02],\n",
       "        [-2.07447274e+00,  4.30343714e+00],\n",
       "        [ 3.85461352e+00,  1.48580454e+01],\n",
       "        [-6.33201531e+00,  4.00944179e+01],\n",
       "        [-1.44850893e+01,  2.09817813e+02],\n",
       "        [-3.43901878e+00,  1.18268502e+01],\n",
       "        [-7.76498290e+00,  6.02949595e+01],\n",
       "        [-2.51184457e+00,  6.30936313e+00],\n",
       "        [-1.77896514e+01,  3.16471696e+02],\n",
       "        [ 6.13043792e+00,  3.75822691e+01],\n",
       "        [-1.00340439e+01,  1.00682036e+02],\n",
       "        [-3.32215909e+00,  1.10367410e+01],\n",
       "        [ 2.16637332e+00,  4.69317337e+00],\n",
       "        [-9.38851389e+00,  8.81441931e+01],\n",
       "        [-3.35804875e+00,  1.12764914e+01],\n",
       "        [ 7.16094572e+00,  5.12791436e+01],\n",
       "        [ 9.97717784e-01,  9.95440777e-01],\n",
       "        [-4.39095852e+00,  1.92805167e+01],\n",
       "        [-8.30949428e+00,  6.90476952e+01],\n",
       "        [-7.84575752e+00,  6.15559111e+01],\n",
       "        [ 8.76186938e+00,  7.67703550e+01],\n",
       "        [-2.48849926e+00,  6.19262856e+00],\n",
       "        [-7.65303984e+00,  5.85690188e+01],\n",
       "        [-5.09495102e+00,  2.59585259e+01],\n",
       "        [-5.30157760e+00,  2.81067251e+01],\n",
       "        [-5.46955332e+00,  2.99160135e+01],\n",
       "        [ 5.28138072e-01,  2.78929823e-01],\n",
       "        [-1.00806790e+01,  1.01620090e+02],\n",
       "        [-3.42921475e+00,  1.17595138e+01],\n",
       "        [-1.15917798e+01,  1.34369358e+02],\n",
       "        [-7.92602834e-01,  6.28219253e-01],\n",
       "        [-1.38162235e+01,  1.90888032e+02],\n",
       "        [-5.83473522e+00,  3.40441351e+01],\n",
       "        [-1.24540277e+01,  1.55102807e+02],\n",
       "        [-5.32019730e-01,  2.83044993e-01],\n",
       "        [-6.10002031e+00,  3.72102478e+01],\n",
       "        [-5.09607074e+00,  2.59699370e+01],\n",
       "        [ 4.89459509e+00,  2.39570611e+01],\n",
       "        [-9.56917969e+00,  9.15691999e+01],\n",
       "        [-3.57727918e-01,  1.27969263e-01],\n",
       "        [-5.63729561e+00,  3.17791018e+01],\n",
       "        [-5.87242182e-01,  3.44853381e-01],\n",
       "        [ 1.37211780e+00,  1.88270725e+00],\n",
       "        [ 1.37054966e+00,  1.87840636e+00],\n",
       "        [-5.55310684e+00,  3.08369956e+01],\n",
       "        [-1.44444940e+01,  2.08643406e+02],\n",
       "        [-7.50088881e+00,  5.62633329e+01],\n",
       "        [-2.65691213e+00,  7.05918205e+00],\n",
       "        [-9.74275276e+00,  9.49212313e+01],\n",
       "        [-4.98825085e+00,  2.48826465e+01],\n",
       "        [-6.42131910e+00,  4.12333390e+01],\n",
       "        [ 7.22889340e-01,  5.22568998e-01],\n",
       "        [-2.96288316e+00,  8.77867662e+00],\n",
       "        [-8.05259708e+00,  6.48443198e+01],\n",
       "        [-7.69894461e-01,  5.92737481e-01],\n",
       "        [-1.11293846e+00,  1.23863203e+00],\n",
       "        [-6.48754834e+00,  4.20882835e+01],\n",
       "        [-3.31780299e+00,  1.10078167e+01],\n",
       "        [-3.80030281e+00,  1.44423014e+01],\n",
       "        [-3.26065502e+00,  1.06318712e+01],\n",
       "        [ 6.65540880e+00,  4.42944663e+01],\n",
       "        [-1.62245596e+00,  2.63236335e+00],\n",
       "        [-2.08926994e+00,  4.36504888e+00],\n",
       "        [ 1.64231950e+00,  2.69721334e+00],\n",
       "        [ 9.49507329e-01,  9.01564169e-01],\n",
       "        [-2.45728613e+00,  6.03825514e+00],\n",
       "        [ 3.55624143e+00,  1.26468531e+01],\n",
       "        [ 1.09574196e+00,  1.20065044e+00],\n",
       "        [-1.78039105e+01,  3.16979230e+02],\n",
       "        [-9.73497217e+00,  9.47696832e+01],\n",
       "        [ 7.66206595e+00,  5.87072547e+01],\n",
       "        [-5.84813880e+00,  3.42007274e+01],\n",
       "        [ 4.84035926e+00,  2.34290778e+01],\n",
       "        [-1.22969285e+01,  1.51214451e+02],\n",
       "        [-2.65492588e+00,  7.04863144e+00],\n",
       "        [ 2.90701712e-01,  8.45074854e-02],\n",
       "        [ 3.56206330e+00,  1.26882949e+01],\n",
       "        [-1.78704670e+00,  3.19353591e+00],\n",
       "        [-2.16971174e+00,  4.70764905e+00],\n",
       "        [ 5.48153383e+00,  3.00472131e+01],\n",
       "        [-1.02884515e+01,  1.05852234e+02],\n",
       "        [-1.00967826e+01,  1.01945018e+02],\n",
       "        [ 2.68249685e+00,  7.19578935e+00],\n",
       "        [ 6.99354798e+00,  4.89097133e+01],\n",
       "        [-9.28450654e+00,  8.62020618e+01],\n",
       "        [-1.18394417e+01,  1.40172379e+02],\n",
       "        [ 1.26245360e+01,  1.59378910e+02],\n",
       "        [-5.49539646e+00,  3.01993823e+01]]))"
      ]
     },
     "metadata": {},
     "execution_count": 11
    }
   ],
   "metadata": {}
  },
  {
   "cell_type": "code",
   "execution_count": 12,
   "source": [
    "#we fit these polynomial features into the linear regression\n",
    "linear_reg = LinearRegression()\n",
    "linear_reg.fit(X_poly, y)"
   ],
   "outputs": [
    {
     "output_type": "execute_result",
     "data": {
      "text/plain": [
       "LinearRegression()"
      ]
     },
     "metadata": {},
     "execution_count": 12
    }
   ],
   "metadata": {}
  },
  {
   "cell_type": "markdown",
   "source": [
    "### Looking at learning curves to estimate the fit of model to data"
   ],
   "metadata": {}
  },
  {
   "cell_type": "code",
   "execution_count": 13,
   "source": [
    "from sklearn.metrics import mean_squared_error\n",
    "from sklearn.model_selection import train_test_split\n",
    "def plot_learning_curves(model, X, y):\n",
    "    X_train, X_val, y_train, y_val = train_test_split(X, y, test_size=0.2)\n",
    "    train_errors, val_errors = [], []\n",
    "    for m in range(1, len(X_train)):\n",
    "        model.fit(X_train[:m], y_train[:m])\n",
    "        y_train_predict = model.predict(X_train[:m])\n",
    "        y_val_predict = model.predict(X_val)\n",
    "        train_errors.append(mean_squared_error(y_train[:m], y_train_predict))\n",
    "        val_errors.append(mean_squared_error(y_val, y_val_predict))\n",
    "    plt.plot(np.sqrt(train_errors), \"r-+\", linewidth=2, label=\"train\")\n",
    "    plt.plot(np.sqrt(val_errors), \"b-\", linewidth=3, label=\"val\")"
   ],
   "outputs": [],
   "metadata": {}
  },
  {
   "cell_type": "code",
   "execution_count": 14,
   "source": [
    "#plotting the error curves for our quadratic curve above\n",
    "lin_reg = LinearRegression()\n",
    "plot_learning_curves(lin_reg, X, y)"
   ],
   "outputs": [
    {
     "output_type": "display_data",
     "data": {
      "text/plain": [
       "<Figure size 432x288 with 1 Axes>"
      ],
      "image/png": "[encoded data removed]"
     },
     "metadata": {
      "needs_background": "light"
     }
    }
   ],
   "metadata": {}
  },
  {
   "cell_type": "markdown",
   "source": [
    "## A good way to reduce test error is to use modified types of regression"
   ],
   "metadata": {}
  },
  {
   "cell_type": "code",
   "execution_count": 16,
   "source": [
    "# ridge regression\n",
    "from sklearn.linear_model import Ridge\n",
    "ridge_reg = Ridge(alpha=1, solver=\"cholesky\")\n",
    "ridge_reg.fit(X, y)"
   ],
   "outputs": [
    {
     "output_type": "execute_result",
     "data": {
      "text/plain": [
       "Ridge(alpha=1, solver='cholesky')"
      ]
     },
     "metadata": {},
     "execution_count": 16
    }
   ],
   "metadata": {}
  },
  {
   "cell_type": "code",
   "execution_count": 17,
   "source": [
    "ridge_reg.predict([[1.5]])"
   ],
   "outputs": [
    {
     "output_type": "execute_result",
     "data": {
      "text/plain": [
       "array([[10.11423414]])"
      ]
     },
     "metadata": {},
     "execution_count": 17
    }
   ],
   "metadata": {}
  },
  {
   "cell_type": "code",
   "execution_count": 18,
   "source": [
    "# lasso regression\n",
    "from sklearn.linear_model import Lasso\n",
    "lasso_reg = Lasso(alpha=0.1)\n",
    "lasso_reg.fit(X, y)\n",
    "lasso_reg.predict([[1.5]])"
   ],
   "outputs": [
    {
     "output_type": "execute_result",
     "data": {
      "text/plain": [
       "array([10.12465678])"
      ]
     },
     "metadata": {},
     "execution_count": 18
    }
   ],
   "metadata": {}
  },
  {
   "cell_type": "code",
   "execution_count": 20,
   "source": [
    "# elastic net (mix of Ridge and Lasso)\n",
    "from sklearn.linear_model import ElasticNet\n",
    "elastic_net = ElasticNet(alpha=0.1, l1_ratio=0.5)\n",
    "elastic_net.fit(X, y)\n",
    "elastic_net.predict([[1.5]])"
   ],
   "outputs": [
    {
     "output_type": "execute_result",
     "data": {
      "text/plain": [
       "array([10.13571332])"
      ]
     },
     "metadata": {},
     "execution_count": 20
    }
   ],
   "metadata": {}
  },
  {
   "cell_type": "code",
   "execution_count": null,
   "source": [],
   "outputs": [],
   "metadata": {}
  }
 ]
}