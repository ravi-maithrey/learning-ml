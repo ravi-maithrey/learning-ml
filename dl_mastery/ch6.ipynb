{
 "cells": [
  {
   "cell_type": "code",
   "execution_count": 5,
   "metadata": {},
   "outputs": [],
   "source": [
    "from tensorflow.keras.models import Sequential\n",
    "from tensorflow.keras.layers import Dense"
   ]
  },
  {
   "cell_type": "markdown",
   "metadata": {},
   "source": [
    "random_uniform: Weights are initialized to small uniformly random values between\n",
    "−0.05 and +0.05.\n",
    "\n",
    "random_normal: Weights are initialized to small Gaussian random values (zero mean\n",
    "and standard deviation of 0.05).\n",
    "\n",
    "zero: All weights are set to zero values."
   ]
  },
  {
   "cell_type": "code",
   "execution_count": 7,
   "metadata": {},
   "outputs": [],
   "source": [
    "# defining a fully connected layer wih random initial weight and it's activation function\n",
    "layer = Dense(16, input_shape=(8,), kernel_initializer = \"random_uniform\", activation=\"relu\")"
   ]
  },
  {
   "cell_type": "markdown",
   "metadata": {},
   "source": [
    "⊲ Dense: Fully connected layer and the most common type of layer used on multilayer\n",
    "perceptron models. This is the one you saw above\n",
    "\n",
    "⊲ Dropout: Apply dropout to the model, setting a fraction of inputs to zero in an effort\n",
    "to reduce overfitting\n",
    "\n",
    "⊲ Concatenate: Combine the outputs from multiple layers as input to a single layer"
   ]
  },
  {
   "cell_type": "code",
   "execution_count": 1,
   "metadata": {},
   "outputs": [],
   "source": [
    "# compiling the model is done as below\n",
    "# model.compile(optimizer=..., loss=..., metrics=...)"
   ]
  },
  {
   "cell_type": "code",
   "execution_count": null,
   "metadata": {},
   "outputs": [],
   "source": []
  }
 ],
 "metadata": {
  "kernelspec": {
   "display_name": "Python 3.10.6 ('base')",
   "language": "python",
   "name": "python3"
  },
  "language_info": {
   "codemirror_mode": {
    "name": "ipython",
    "version": 3
   },
   "file_extension": ".py",
   "mimetype": "text/x-python",
   "name": "python",
   "nbconvert_exporter": "python",
   "pygments_lexer": "ipython3",
   "version": "3.10.6"
  },
  "orig_nbformat": 4,
  "vscode": {
   "interpreter": {
    "hash": "51d0634a2487aff1c7d1f3b0822ad0679aa27b729b0ed920cf0f286e3bcfded9"
   }
  }
 },
 "nbformat": 4,
 "nbformat_minor": 2
}
