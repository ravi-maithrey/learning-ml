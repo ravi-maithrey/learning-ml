{
 "cells": [
  {
   "cell_type": "markdown",
   "metadata": {},
   "source": [
    "### Autograd"
   ]
  },
  {
   "cell_type": "code",
   "execution_count": 1,
   "metadata": {},
   "outputs": [],
   "source": [
    "import tensorflow as tf"
   ]
  },
  {
   "cell_type": "code",
   "execution_count": 3,
   "metadata": {},
   "outputs": [
    {
     "name": "stdout",
     "output_type": "stream",
     "text": [
      "tf.Tensor([1 2 3], shape=(3,), dtype=int32)\n",
      "(3,)\n",
      "<dtype: 'int32'>\n"
     ]
    }
   ],
   "source": [
    "x = tf.constant([1,2,3])\n",
    "print(x)\n",
    "print(x.shape)\n",
    "print(x.dtype)"
   ]
  },
  {
   "cell_type": "code",
   "execution_count": 4,
   "metadata": {},
   "outputs": [
    {
     "name": "stdout",
     "output_type": "stream",
     "text": [
      "<tf.Variable 'Variable:0' shape=(3,) dtype=int32, numpy=array([1, 2, 3], dtype=int32)>\n",
      "(3,)\n",
      "<dtype: 'int32'>\n"
     ]
    }
   ],
   "source": [
    "x = tf.Variable([1,2,3])\n",
    "print(x)\n",
    "print(x.shape)\n",
    "print(x.dtype)"
   ]
  },
  {
   "cell_type": "code",
   "execution_count": 7,
   "metadata": {},
   "outputs": [
    {
     "name": "stdout",
     "output_type": "stream",
     "text": [
      "tf.Tensor(7.2, shape=(), dtype=float32)\n"
     ]
    }
   ],
   "source": [
    "# running a gradient tape on a tf variable\n",
    "# we get the gradient of y = x^2 at x = 3.6\n",
    "x = tf.Variable(3.6)\n",
    "with tf.GradientTape() as tape:\n",
    "    y = x*x\n",
    "    dy = tape.gradient(y,x)\n",
    "    print(dy)"
   ]
  },
  {
   "cell_type": "markdown",
   "metadata": {},
   "source": [
    "## Using Autograd"
   ]
  },
  {
   "cell_type": "code",
   "execution_count": 9,
   "metadata": {},
   "outputs": [
    {
     "name": "stdout",
     "output_type": "stream",
     "text": [
      "   2\n",
      "1 x + 2 x + 3\n"
     ]
    }
   ],
   "source": [
    "# making up a polynomial in numpy\n",
    "import numpy as np\n",
    "polynomial = np.poly1d([1,2,3])\n",
    "print(polynomial)"
   ]
  },
  {
   "cell_type": "code",
   "execution_count": 10,
   "metadata": {},
   "outputs": [],
   "source": [
    "# creating X and Y which represent this polynomial. 20 values, X is random between 10 and -10\n",
    "N = 20\n",
    "X = np.random.uniform(-10,10,size=(N,1))\n",
    "Y = polynomial(X)"
   ]
  },
  {
   "cell_type": "code",
   "execution_count": 13,
   "metadata": {},
   "outputs": [
    {
     "name": "stdout",
     "output_type": "stream",
     "text": [
      "<tf.Variable 'Variable:0' shape=(3, 1) dtype=float32, numpy=\n",
      "array([[-1.3544159 ],\n",
      "       [ 0.7045493 ],\n",
      "       [ 0.03666191]], dtype=float32)>\n",
      "<tf.Variable 'Variable:0' shape=(3, 1) dtype=float32, numpy=\n",
      "array([[1.0071912],\n",
      "       [2.0142002],\n",
      "       [2.5059197]], dtype=float32)>\n"
     ]
    }
   ],
   "source": [
    "# using the values generated above we try to fit a polynomial\n",
    "# we assume we already know we need to predict ax2 + bx + c\n",
    "# so w only has size 3\n",
    "XX = np.hstack([X*X, X, np.ones_like(X)])\n",
    "\n",
    "#prepare tensorflow data\n",
    "w = tf.Variable(tf.random.normal((3,1)))\n",
    "x = tf.constant(XX, dtype=tf.float32)\n",
    "y = tf.constant(Y, dtype=tf.float32)\n",
    "optimizer = tf.keras.optimizers.Nadam(learning_rate=0.01)\n",
    "print(w)\n",
    "\n",
    "for _ in range(1000):\n",
    "    with tf.GradientTape() as tape:\n",
    "        y_pred = x @ w # @ is used for matrix multiplication and is similar to tf.matmul\n",
    "        mse = tf.reduce_sum(tf.square(y - y_pred))\n",
    "    grad = tape.gradient(mse, w)\n",
    "    optimizer.apply_gradients([(grad, w)])\n",
    "\n",
    "print(w)"
   ]
  }
 ],
 "metadata": {
  "kernelspec": {
   "display_name": "Python 3.10.6 ('base')",
   "language": "python",
   "name": "python3"
  },
  "language_info": {
   "codemirror_mode": {
    "name": "ipython",
    "version": 3
   },
   "file_extension": ".py",
   "mimetype": "text/x-python",
   "name": "python",
   "nbconvert_exporter": "python",
   "pygments_lexer": "ipython3",
   "version": "3.10.6"
  },
  "orig_nbformat": 4,
  "vscode": {
   "interpreter": {
    "hash": "51d0634a2487aff1c7d1f3b0822ad0679aa27b729b0ed920cf0f286e3bcfded9"
   }
  }
 },
 "nbformat": 4,
 "nbformat_minor": 2
}
