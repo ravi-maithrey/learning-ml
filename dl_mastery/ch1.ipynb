{
 "cells": [
  {
   "cell_type": "code",
   "execution_count": 1,
   "metadata": {},
   "outputs": [],
   "source": [
    "import tensorflow as tf"
   ]
  },
  {
   "cell_type": "code",
   "execution_count": 2,
   "metadata": {},
   "outputs": [
    {
     "name": "stdout",
     "output_type": "stream",
     "text": [
      "Metal device set to: Apple M1 Pro\n",
      "\n",
      "systemMemory: 16.00 GB\n",
      "maxCacheSize: 5.33 GB\n",
      "\n"
     ]
    },
    {
     "name": "stderr",
     "output_type": "stream",
     "text": [
      "2022-08-28 10:55:45.085297: I tensorflow/core/common_runtime/pluggable_device/pluggable_device_factory.cc:305] Could not identify NUMA node of platform GPU ID 0, defaulting to 0. Your kernel may not have been built with NUMA support.\n",
      "2022-08-28 10:55:45.086426: I tensorflow/core/common_runtime/pluggable_device/pluggable_device_factory.cc:271] Created TensorFlow device (/job:localhost/replica:0/task:0/device:GPU:0 with 0 MB memory) -> physical PluggableDevice (device: 0, name: METAL, pci bus id: <undefined>)\n"
     ]
    },
    {
     "data": {
      "text/plain": [
       "<tf.Tensor: shape=(), dtype=int32, numpy=30>"
      ]
     },
     "execution_count": 2,
     "metadata": {},
     "output_type": "execute_result"
    }
   ],
   "source": [
    "a = tf.constant(10)\n",
    "b = tf.constant(20)\n",
    "a+b"
   ]
  },
  {
   "cell_type": "code",
   "execution_count": 3,
   "metadata": {},
   "outputs": [
    {
     "name": "stdout",
     "output_type": "stream",
     "text": [
      "tf.Tensor(30, shape=(), dtype=int32)\n"
     ]
    }
   ],
   "source": [
    "print(a+b)"
   ]
  },
  {
   "cell_type": "code",
   "execution_count": 6,
   "metadata": {},
   "outputs": [
    {
     "name": "stdout",
     "output_type": "stream",
     "text": [
      "0 [-1.3534158] [0.00100003]\n",
      "500 [-0.9353455] [0.40725732]\n",
      "1000 [-0.68908405] [0.6016085]\n",
      "1500 [-0.55712724] [0.6324873]\n",
      "2000 [-0.4585319] [0.59585774]\n",
      "2500 [-0.3578705] [0.54332465]\n",
      "3000 [-0.25388247] [0.48798367]\n",
      "3500 [-0.15369353] [0.43469694]\n",
      "4000 [-0.06526976] [0.38771585]\n",
      "4500 [0.00479297] [0.35051867]\n"
     ]
    }
   ],
   "source": [
    "import numpy as np\n",
    "# creating fake data points\n",
    "x_data = np.random.rand(100).astype(np.float32)\n",
    "y_data = x_data * 0.1 + 0.3\n",
    "\n",
    "# Try to find values for W and b that compute y_data = W * x_data + b\n",
    "# (We know that W should be 0.1 and b 0.3, but Tensorflow will figure that out for us.)\n",
    "# initialzing W to random and b to 0s\n",
    "W = tf.Variable(tf.random.normal([1]))\n",
    "b = tf.Variable(tf.zeros([1]))\n",
    "\n",
    "# computing mean squared error\n",
    "def mse_loss():\n",
    "    y = W * x_data + b\n",
    "    loss = tf.reduce_mean(tf.square(y - y_data))\n",
    "    return loss\n",
    "\n",
    "# getting an optimizer\n",
    "optimizer = tf.keras.optimizers.Adam()\n",
    "# running the training loop\n",
    "for step in range(5000):\n",
    "    optimizer.minimize(mse_loss,var_list=[W,b])\n",
    "    if step % 500 == 0:\n",
    "        print(step, W.numpy(), b.numpy())\n",
    "\n"
   ]
  },
  {
   "cell_type": "code",
   "execution_count": null,
   "metadata": {},
   "outputs": [],
   "source": []
  }
 ],
 "metadata": {
  "kernelspec": {
   "display_name": "Python 3.10.6 ('base')",
   "language": "python",
   "name": "python3"
  },
  "language_info": {
   "codemirror_mode": {
    "name": "ipython",
    "version": 3
   },
   "file_extension": ".py",
   "mimetype": "text/x-python",
   "name": "python",
   "nbconvert_exporter": "python",
   "pygments_lexer": "ipython3",
   "version": "3.10.6"
  },
  "orig_nbformat": 4,
  "vscode": {
   "interpreter": {
    "hash": "51d0634a2487aff1c7d1f3b0822ad0679aa27b729b0ed920cf0f286e3bcfded9"
   }
  }
 },
 "nbformat": 4,
 "nbformat_minor": 2
}
